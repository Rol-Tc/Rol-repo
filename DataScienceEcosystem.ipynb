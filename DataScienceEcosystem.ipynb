{
 "cells": [
  {
   "cell_type": "markdown",
   "id": "13834808-2c5a-4ea1-87c1-d708fa28f3ef",
   "metadata": {},
   "source": [
    "# Data Science Tools and Ecosystem"
   ]
  },
  {
   "cell_type": "markdown",
   "id": "5b8a88ed-0465-4f7f-a6cc-b7d36d2e725e",
   "metadata": {},
   "source": [
    "**In this notebook, Data Science Tools and Ecosystem are summarized.**"
   ]
  },
  {
   "cell_type": "markdown",
   "id": "05e0f66d-3841-452f-ba27-36c942f3e657",
   "metadata": {},
   "source": [
    "#### Some of the popular languages that Data Scientists use are:\n"
   ]
  },
  {
   "cell_type": "markdown",
   "id": "1c7f2b88-20e8-4127-b02a-50a5f63ad398",
   "metadata": {},
   "source": [
    "1. Python \n",
    "2. Java\n",
    "3. R\n",
    "4. C++\n"
   ]
  },
  {
   "cell_type": "markdown",
   "id": "29de34fc-dbc8-4be7-9932-a5063e63976e",
   "metadata": {},
   "source": [
    "#### Some of the commonly used libraries used by Data Scientists include:"
   ]
  },
  {
   "cell_type": "markdown",
   "id": "c25e83bb-32b3-446f-95d1-d05d3f433f7c",
   "metadata": {},
   "source": [
    "1. Seaborn\n",
    "2. Pandas\n",
    "3. Numpy\n",
    "4. Keras\n"
   ]
  },
  {
   "cell_type": "markdown",
   "id": "68e4ba2c-2081-4b49-80a4-0a78c81aa40a",
   "metadata": {},
   "source": [
    "|Data science Tools|\n",
    "|------------------|\n",
    "|Jupyter notebook|\n",
    "|R studio|\n",
    "|Apache Zeppelin|"
   ]
  },
  {
   "cell_type": "markdown",
   "id": "b952d8b1-c3d9-4436-a423-5c63705c1ab7",
   "metadata": {},
   "source": [
    "### Below are a few examples of evaluating arithmetic expressions in Python"
   ]
  },
  {
   "cell_type": "markdown",
   "id": "c8d67083-f826-4c4b-b9c6-aea54123cbd3",
   "metadata": {},
   "source": [
    "This a simple arithmetic expression to mutiply then add integers (3*4)+5"
   ]
  },
  {
   "cell_type": "code",
   "execution_count": 9,
   "id": "6e948a2d-7bf7-48e9-9152-d38788ee3e4e",
   "metadata": {},
   "outputs": [
    {
     "data": {
      "text/plain": [
       "17"
      ]
     },
     "execution_count": 9,
     "metadata": {},
     "output_type": "execute_result"
    }
   ],
   "source": [
    "(3*4)+5"
   ]
  },
  {
   "cell_type": "markdown",
   "id": "71db7a73-410d-4fdf-9cb7-b0be4bd182bb",
   "metadata": {},
   "source": [
    "This will convert 200 minutes to hours by dividing by 60"
   ]
  },
  {
   "cell_type": "code",
   "execution_count": 11,
   "id": "251a2db8-39df-400f-a8a8-67aa8025fcae",
   "metadata": {},
   "outputs": [
    {
     "data": {
      "text/plain": [
       "3.3333333333333335"
      ]
     },
     "execution_count": 11,
     "metadata": {},
     "output_type": "execute_result"
    }
   ],
   "source": [
    "200/60"
   ]
  },
  {
   "cell_type": "markdown",
   "id": "72d9b190-446c-4656-8fc7-96d80d7af06a",
   "metadata": {},
   "source": [
    "**Objectives:**"
   ]
  },
  {
   "cell_type": "markdown",
   "id": "a34d7149-2c34-483a-9de1-45ec90108601",
   "metadata": {},
   "source": [
    "+ Popular languages data scientists use\n",
    "+ Libraries data scientists use\n",
    "+ Data science tools\n",
    "+ Examples of evaluating arithmetic expressions in Python"
   ]
  },
  {
   "cell_type": "markdown",
   "id": "06b1528a-2341-40a5-aebc-d91dcc6d1bc9",
   "metadata": {},
   "source": [
    "## Author\n",
    "Ugwueke-Roland, Princewill Chukwuka"
   ]
  },
  {
   "cell_type": "code",
   "execution_count": null,
   "id": "2f7d80f2-cf5e-4252-a0ac-23d78035ae4e",
   "metadata": {},
   "outputs": [],
   "source": []
  }
 ],
 "metadata": {
  "kernelspec": {
   "display_name": "Python [conda env:base] *",
   "language": "python",
   "name": "conda-base-py"
  },
  "language_info": {
   "codemirror_mode": {
    "name": "ipython",
    "version": 3
   },
   "file_extension": ".py",
   "mimetype": "text/x-python",
   "name": "python",
   "nbconvert_exporter": "python",
   "pygments_lexer": "ipython3",
   "version": "3.13.5"
  }
 },
 "nbformat": 4,
 "nbformat_minor": 5
}
